{
 "cells": [
  {
   "cell_type": "markdown",
   "id": "57d1d2e7",
   "metadata": {},
   "source": [
    " # Decomposição de texto\n",
    " ## Decomposição de um texto, classificando em ordem alfabética e contando o número de ocorrências de cada componente extraído: palavras, números, sinais de pontuação, etc. Os componentes podem aparecer justapostos ou separados por espaço, tabulação, fim de linha\n",
    " \n",
    " ### Neste problema, é dado um arquivo de texto, contendo material redigido em alguma língua natural (por exemplo, um artigo de jornal), e deseja-se coletar dele todas as palavras utilizadas, tabelando-as, ordenando-as alfabeticamente, ememorizando suas ocorrências.\n",
    " ### Usando uma lista de palavras-chave à sua escolha, separe em duas classes as palavras encontradas no texto, conforme se trate de uma palavra-chave ou uma palavra comum.\n",
    "\n",
    "### A tabela de palavras coletadas deve ser uma coleção de linhas em ordem alfabética, tal como exemplificado no seguinte fragmento de tabela:\n",
    "palavra   número de ocorrências\n",
    "    DE    3\n",
    "EVENTOS   1\n",
    "HORIZONTE 1\n",
    "    O     5"
   ]
  },
  {
   "cell_type": "code",
   "execution_count": 1,
   "id": "043c6670",
   "metadata": {},
   "outputs": [],
   "source": [
    "# Instalando packages importantes\n",
    "#pip install pandas"
   ]
  },
  {
   "cell_type": "code",
   "execution_count": 2,
   "id": "42cf0961",
   "metadata": {},
   "outputs": [],
   "source": [
    "# Importando packages\n",
    "import pandas\n",
    "import re"
   ]
  },
  {
   "cell_type": "code",
   "execution_count": 3,
   "id": "32d55dd6",
   "metadata": {},
   "outputs": [
    {
     "name": "stdout",
     "output_type": "stream",
     "text": [
      "Nome do arquivo (e.g. file.txt): liberdade.txt\n"
     ]
    }
   ],
   "source": [
    "#Pegando o caminho do arquivo\n",
    "file = input('Nome do arquivo (e.g. file.txt): ')"
   ]
  },
  {
   "cell_type": "code",
   "execution_count": 4,
   "id": "8c07b6af",
   "metadata": {},
   "outputs": [],
   "source": [
    "palavras = []\n",
    "caracteresEspeciais = []"
   ]
  },
  {
   "cell_type": "code",
   "execution_count": 21,
   "id": "6f4884e1",
   "metadata": {
    "scrolled": true
   },
   "outputs": [],
   "source": [
    "with open(file, 'r', encoding='utf8') as f:\n",
    "    for line in f:\n",
    "        caracteresEspeciais+=(re.findall('[`\\-=~!@#$%^&*()_+\\[\\]{};\\'\\\\:\"|<,./<>?]', line))\n",
    "        for word in line.split():\n",
    "            word_ind = re.split(r'[`\\-=~!@#$%^&*()_+\\[\\]{};\\'\\\\:\"|<,./<>?]', word)\n",
    "            word_ind = [w for w in word_ind if w != '']\n",
    "            if len(word_ind) > 0 :\n",
    "                palavras.append(word_ind[0])"
   ]
  },
  {
   "cell_type": "code",
   "execution_count": 22,
   "id": "57c546c1",
   "metadata": {
    "scrolled": true
   },
   "outputs": [
    {
     "name": "stdout",
     "output_type": "stream",
     "text": [
      "['.', ',', ',', ',', '.', ',', '.', ',', ',', '.', '.', '.', '.', ',', '.', ',', ',', '.', ',', ',', '.', ',', '.', ',', '-', '.', ',', ',', ',', '.', ',', '.', ',', ',', '.', '.', '.', '.', ',', '.', ',', ',', '.', ',', ',', '.', ',', '.', ',', '-', '.', ',', ',', ',', '.', ',', '.', ',', ',', '.', '.', '.', '.', ',', '.', ',', ',', '.', ',', ',', '.', ',', '.', ',', '-', '.', ',', ',', ',', '.', ',', '.', ',', ',', '.', '.', '.', '.', ',', '.', ',', ',', '.', ',', ',', '.', ',', '.', ',', '-', '.', ',', ',', ',', '.', ',', '.', ',', '.', ';', ',', '.', ',', ',', ',', '.', ',', ',', ',', ',', '.', '.', ',', '.', ',', '.', ',', '.', '-', ',', ',', '\"', '\"', '.', '.', ',', ',', ',', '.', ',', ',', ';', ',', ',', '.', ',', ',', '.']\n",
      "['SOBRE', 'A', 'LIBERDADE', 'Por', 'Albert', 'Einstein', 'Sei', 'que', 'é', 'inútil', 'tentar', 'discutir', 'os', 'juízos', 'de', 'valores', 'fundamentais', 'Se', 'alguém', 'aprova', 'como', 'meta', 'por', 'exemplo', 'a', 'eliminação', 'da', 'espécie', 'humana', 'da', 'face', 'da', 'Terra', 'não', 'se', 'pode', 'refutar', 'esse', 'ponto', 'de', 'vista', 'em', 'bases', 'racionais', 'Se', 'houver', 'porém', 'concordância', 'quanto', 'a', 'certas', 'metas', 'e', 'valores', 'é', 'possível', 'discutir', 'racionalmente', 'os', 'meios', 'pelos', 'quais', 'esses', 'objetivos', 'podem', 'ser', 'atingidos', 'Indiquemos', 'portanto', 'duas', 'metas', 'com', 'que', 'certamente', 'estarão', 'de', 'acordo', 'quase', 'todos', 'os', 'que', 'lêem', 'estas', 'linhas', '1', 'Os', 'bens', 'instrumentais', 'que', 'servem', 'para', 'preservar', 'a', 'vida', 'e', 'a', 'saúde', 'de', 'todos', 'os', 'seres', 'humanos', 'devem', 'ser', 'produzidos', 'mediante', 'o', 'menor', 'esforço', 'possível', 'de', 'todos', '2', 'A', 'satisfação', 'de', 'necessidades', 'físicas', 'é', 'por', 'certo', 'a', 'precondição', 'indispensável', 'de', 'uma', 'existência', 'satisfatória', 'mas', 'em', 'si', 'mesma', 'não', 'é', 'suficiente', 'Para', 'se', 'realizar', 'os', 'homens', 'precisam', 'ter', 'também', 'a', 'possibilidade', 'de', 'desenvolver', 'suas', 'capacidades', 'intelectuais', 'artísticas', 'sem', 'limites', 'restritivos', 'segundo', 'suas', 'características', 'e', 'aptidões', 'pessoais', 'A', 'primeira', 'dessas', 'duas', 'metas', 'exige', 'a', 'promoção', 'de', 'todo', 'conhecimento', 'referente', 'às', 'leis', 'da', 'natureza', 'e', 'dos', 'processos', 'sociais', 'isto', 'é', 'a', 'promoção', 'de', 'todo', 'esforço', 'científico', 'Pois', 'o', 'empreendimento', 'científico', 'é', 'um', 'todo', 'natural', 'cujas', 'partes', 'se', 'sustentam', 'mutuamente', 'de', 'uma', 'maneira', 'que', 'certamente', 'ninguém', 'pode', 'prever', 'Entretanto', 'o', 'progresso', 'da', 'ciência', 'pressupõe', 'a', 'possibilidade', 'de', 'comunicação', 'irrestrita', 'de', 'rodos', 'os', 'resultados', 'e', 'julgamentos', 'SOBRE', 'A', 'LIBERDADE', 'Por', 'Albert', 'Einstein', 'Sei', 'que', 'é', 'inútil', 'tentar', 'discutir', 'os', 'juízos', 'de', 'valores', 'fundamentais', 'Se', 'alguém', 'aprova', 'como', 'meta', 'por', 'exemplo', 'a', 'eliminação', 'da', 'espécie', 'humana', 'da', 'face', 'da', 'Terra', 'não', 'se', 'pode', 'refutar', 'esse', 'ponto', 'de', 'vista', 'em', 'bases', 'racionais', 'Se', 'houver', 'porém', 'concordância', 'quanto', 'a', 'certas', 'metas', 'e', 'valores', 'é', 'possível', 'discutir', 'racionalmente', 'os', 'meios', 'pelos', 'quais', 'esses', 'objetivos', 'podem', 'ser', 'atingidos', 'Indiquemos', 'portanto', 'duas', 'metas', 'com', 'que', 'certamente', 'estarão', 'de', 'acordo', 'quase', 'todos', 'os', 'que', 'lêem', 'estas', 'linhas', '1', 'Os', 'bens', 'instrumentais', 'que', 'servem', 'para', 'preservar', 'a', 'vida', 'e', 'a', 'saúde', 'de', 'todos', 'os', 'seres', 'humanos', 'devem', 'ser', 'produzidos', 'mediante', 'o', 'menor', 'esforço', 'possível', 'de', 'todos', '2', 'A', 'satisfação', 'de', 'necessidades', 'físicas', 'é', 'por', 'certo', 'a', 'precondição', 'indispensável', 'de', 'uma', 'existência', 'satisfatória', 'mas', 'em', 'si', 'mesma', 'não', 'é', 'suficiente', 'Para', 'se', 'realizar', 'os', 'homens', 'precisam', 'ter', 'também', 'a', 'possibilidade', 'de', 'desenvolver', 'suas', 'capacidades', 'intelectuais', 'artísticas', 'sem', 'limites', 'restritivos', 'segundo', 'suas', 'características', 'e', 'aptidões', 'pessoais', 'A', 'primeira', 'dessas', 'duas', 'metas', 'exige', 'a', 'promoção', 'de', 'todo', 'conhecimento', 'referente', 'às', 'leis', 'da', 'natureza', 'e', 'dos', 'processos', 'sociais', 'isto', 'é', 'a', 'promoção', 'de', 'todo', 'esforço', 'científico', 'Pois', 'o', 'empreendimento', 'científico', 'é', 'um', 'todo', 'natural', 'cujas', 'partes', 'se', 'sustentam', 'mutuamente', 'de', 'uma', 'maneira', 'que', 'certamente', 'ninguém', 'pode', 'prever', 'Entretanto', 'o', 'progresso', 'da', 'ciência', 'pressupõe', 'a', 'possibilidade', 'de', 'comunicação', 'irrestrita', 'de', 'rodos', 'os', 'resultados', 'e', 'julgamentos', 'SOBRE', 'A', 'LIBERDADE', 'Por', 'Albert', 'Einstein', 'Sei', 'que', 'é', 'inútil', 'tentar', 'discutir', 'os', 'juízos', 'de', 'valores', 'fundamentais', 'Se', 'alguém', 'aprova', 'como', 'meta', 'por', 'exemplo', 'a', 'eliminação', 'da', 'espécie', 'humana', 'da', 'face', 'da', 'Terra', 'não', 'se', 'pode', 'refutar', 'esse', 'ponto', 'de', 'vista', 'em', 'bases', 'racionais', 'Se', 'houver', 'porém', 'concordância', 'quanto', 'a', 'certas', 'metas', 'e', 'valores', 'é', 'possível', 'discutir', 'racionalmente', 'os', 'meios', 'pelos', 'quais', 'esses', 'objetivos', 'podem', 'ser', 'atingidos', 'Indiquemos', 'portanto', 'duas', 'metas', 'com', 'que', 'certamente', 'estarão', 'de', 'acordo', 'quase', 'todos', 'os', 'que', 'lêem', 'estas', 'linhas', '1', 'Os', 'bens', 'instrumentais', 'que', 'servem', 'para', 'preservar', 'a', 'vida', 'e', 'a', 'saúde', 'de', 'todos', 'os', 'seres', 'humanos', 'devem', 'ser', 'produzidos', 'mediante', 'o', 'menor', 'esforço', 'possível', 'de', 'todos', '2', 'A', 'satisfação', 'de', 'necessidades', 'físicas', 'é', 'por', 'certo', 'a', 'precondição', 'indispensável', 'de', 'uma', 'existência', 'satisfatória', 'mas', 'em', 'si', 'mesma', 'não', 'é', 'suficiente', 'Para', 'se', 'realizar', 'os', 'homens', 'precisam', 'ter', 'também', 'a', 'possibilidade', 'de', 'desenvolver', 'suas', 'capacidades', 'intelectuais', 'artísticas', 'sem', 'limites', 'restritivos', 'segundo', 'suas', 'características', 'e', 'aptidões', 'pessoais', 'A', 'primeira', 'dessas', 'duas', 'metas', 'exige', 'a', 'promoção', 'de', 'todo', 'conhecimento', 'referente', 'às', 'leis', 'da', 'natureza', 'e', 'dos', 'processos', 'sociais', 'isto', 'é', 'a', 'promoção', 'de', 'todo', 'esforço', 'científico', 'Pois', 'o', 'empreendimento', 'científico', 'é', 'um', 'todo', 'natural', 'cujas', 'partes', 'se', 'sustentam', 'mutuamente', 'de', 'uma', 'maneira', 'que', 'certamente', 'ninguém', 'pode', 'prever', 'Entretanto', 'o', 'progresso', 'da', 'ciência', 'pressupõe', 'a', 'possibilidade', 'de', 'comunicação', 'irrestrita', 'de', 'rodos', 'os', 'resultados', 'e', 'julgamentos', 'SOBRE', 'A', 'LIBERDADE', 'Por', 'Albert', 'Einstein', 'Sei', 'que', 'é', 'inútil', 'tentar', 'discutir', 'os', 'juízos', 'de', 'valores', 'fundamentais', 'Se', 'alguém', 'aprova', 'como', 'meta', 'por', 'exemplo', 'a', 'eliminação', 'da', 'espécie', 'humana', 'da', 'face', 'da', 'Terra', 'não', 'se', 'pode', 'refutar', 'esse', 'ponto', 'de', 'vista', 'em', 'bases', 'racionais', 'Se', 'houver', 'porém', 'concordância', 'quanto', 'a', 'certas', 'metas', 'e', 'valores', 'é', 'possível', 'discutir', 'racionalmente', 'os', 'meios', 'pelos', 'quais', 'esses', 'objetivos', 'podem', 'ser', 'atingidos', 'Indiquemos', 'portanto', 'duas', 'metas', 'com', 'que', 'certamente', 'estarão', 'de', 'acordo', 'quase', 'todos', 'os', 'que', 'lêem', 'estas', 'linhas', '1', 'Os', 'bens', 'instrumentais', 'que', 'servem', 'para', 'preservar', 'a', 'vida', 'e', 'a', 'saúde', 'de', 'todos', 'os', 'seres', 'humanos', 'devem', 'ser', 'produzidos', 'mediante', 'o', 'menor', 'esforço', 'possível', 'de', 'todos', '2', 'A', 'satisfação', 'de', 'necessidades', 'físicas', 'é', 'por', 'certo', 'a', 'precondição', 'indispensável', 'de', 'uma', 'existência', 'satisfatória', 'mas', 'em', 'si', 'mesma', 'não', 'é', 'suficiente', 'Para', 'se', 'realizar', 'os', 'homens', 'precisam', 'ter', 'também', 'a', 'possibilidade', 'de', 'desenvolver', 'suas', 'capacidades', 'intelectuais', 'artísticas', 'sem', 'limites', 'restritivos', 'segundo', 'suas', 'características', 'e', 'aptidões', 'pessoais', 'A', 'primeira', 'dessas', 'duas', 'metas', 'exige', 'a', 'promoção', 'de', 'todo', 'conhecimento', 'referente', 'às', 'leis', 'da', 'natureza', 'e', 'dos', 'processos', 'sociais', 'isto', 'é', 'a', 'promoção', 'de', 'todo', 'esforço', 'científico', 'Pois', 'o', 'empreendimento', 'científico', 'é', 'um', 'todo', 'natural', 'cujas', 'partes', 'se', 'sustentam', 'mutuamente', 'de', 'uma', 'maneira', 'que', 'certamente', 'ninguém', 'pode', 'prever', 'Entretanto', 'o', 'progresso', 'da', 'ciência', 'pressupõe', 'a', 'possibilidade', 'de', 'comunicação', 'irrestrita', 'de', 'rodos', 'os', 'resultados', 'e', 'julgamentos', 'liberdade', 'de', 'expressão', 'e', 'ensino', 'em', 'todos', 'os', 'campos', 'do', 'esforço', 'intelectual', 'Por', 'liberdade', 'entendo', 'condições', 'sociais', 'tais', 'que', 'a', 'expressão', 'de', 'opiniões', 'e', 'afirmações', 'sobre', 'questões', 'gerais', 'e', 'particulares', 'do', 'conhecimento', 'não', 'envolvam', 'perigos', 'ou', 'graves', 'desvantagens', 'para', 'seu', 'autor', 'Essa', 'liberdade', 'de', 'comunicação', 'é', 'indispensável', 'para', 'o', 'desenvolvimento', 'e', 'a', 'ampliação', 'do', 'conhecimento', 'científico', 'aspecto', 'de', 'grande', 'importância', 'prática', 'Em', 'primeiro', 'lugar', 'ela', 'deve', 'ser', 'assegurada', 'por', 'lei', 'Mas', 'as', 'leis', 'por', 'si', 'mesmas', 'não', 'podem', 'assegurar', 'a', 'liberdade', 'de', 'expressão', 'para', 'que', 'todo', 'homem', 'possa', 'expor', 'suas', 'idéias', 'sem', 'ser', 'punido', 'deve', 'haver', 'um', 'espírito', 'de', 'tolerância', 'em', 'toda', 'a', 'população', 'Tal', 'ideal', 'de', 'liberdade', 'externa', 'jamais', 'poderá', 'ser', 'plenamente', 'atingido', 'mas', 'deve', 'ser', 'incansavelmente', 'perseguido', 'para', 'que', 'o', 'pensamento', 'científico', 'e', 'o', 'pensamento', 'filosófico', 'e', 'criativo', 'em', 'geral', 'possam', 'avançar', 'tanto', 'quanto', 'possível', 'Para', 'que', 'a', 'segunda', 'meta', 'isto', 'é', 'a', 'possibilidade', 'de', 'desenvolvimento', 'espiritual', 'de', 'todos', 'os', 'indivíduos', 'possa', 'ser', 'assegurada', 'é', 'necessário', 'um', 'segundo', 'tipo', 'de', 'liberdade', 'externa', 'O', 'homem', 'não', 'deve', 'ser', 'obrigado', 'a', 'trabalhar', 'para', 'suprir', 'as', 'necessidades', 'da', 'vida', 'numa', 'intensidade', 'tal', 'que', 'não', 'lhe', 'restem', 'tempo', 'nem', 'forças', 'para', 'as', 'atividades', 'pessoais', 'Sem', 'este', 'segundo', 'tipo', 'de', 'liberdade', 'externa', 'a', 'liberdade', 'de', 'expressão', 'é', 'inútil', 'para', 'ele', 'Avanços', 'na', 'tecnologia', 'tornariam', 'possível', 'esse', 'tipo', 'de', 'liberdade', 'se', 'o', 'problema', 'de', 'uma', 'divisão', 'justa', 'do', 'trabalho', 'fosse', 'resolvido', 'O', 'desenvolvimento', 'da', 'ciência', 'e', 'das', 'atividades', 'criativas', 'do', 'espírito', 'em', 'geral', 'exige', 'ainda', 'outro', 'tipo', 'de', 'liberdade', 'que', 'pode', 'ser', 'caracterizado', 'como', 'liberdade', 'interna', 'Trata', 'daquela', 'liberdade', 'de', 'espírito', 'que', 'consiste', 'na', 'independência', 'do', 'pensamento', 'em', 'face', 'das', 'restrições', 'de', 'preconceitos', 'autoritários', 'e', 'sociais', 'bem', 'como', 'da', 'rotinização', 'e', 'do', 'hábito', 'irrefletidos', 'em', 'geral', 'Essa', 'liberdade', 'interna', 'é', 'um', 'raro', 'dom', 'da', 'natureza', 'e', 'uma', 'valiosa', 'meta', 'para', 'o', 'indivíduo', 'No', 'entanto', 'a', 'comunidade', 'pode', 'fazer', 'muito', 'para', 'favorecer', 'essa', 'conquista', 'pelo', 'menos', 'deixando', 'de', 'interferir', 'no', 'desenvolvimento', 'As', 'escolas', 'por', 'exemplo', 'podem', 'interferir', 'no', 'desenvolvimento', 'da', 'liberdade', 'interna', 'mediante', 'influências', 'autoritárias', 'e', 'a', 'imposição', 'de', 'cargas', 'espirituais', 'aos', 'jovens', 'excessivas', 'por', 'outro', 'lado', 'as', 'escolas', 'podem', 'favorecer', 'essa', 'liberdade', 'incentivando', 'o', 'pensamento', 'independente', 'Só', 'quando', 'a', 'liberdade', 'externa', 'e', 'interna', 'são', 'constantes', 'e', 'conscienciosamente', 'perseguidas', 'há', 'possibilidade', 'de', 'desenvolvimento', 'e', 'aperfeiçoamento', 'espiritual', 'e', 'portanto', 'de', 'aprimorar', 'a', 'vida', 'externa', 'e', 'interna', 'do', 'homem']\n"
     ]
    }
   ],
   "source": [
    "#print(caracteresEspeciais)\n",
    "#print(palavras)"
   ]
  },
  {
   "cell_type": "code",
   "execution_count": 23,
   "id": "c80bf4ab",
   "metadata": {},
   "outputs": [],
   "source": [
    "palavras+=caracteresEspeciais"
   ]
  },
  {
   "cell_type": "markdown",
   "id": "20a2e942",
   "metadata": {},
   "source": [
    "string_1 = \"\\tVH VH VH VL N N N N N N N\\n\"\n",
    "matches = re.findall(r'\\S+|[^\\S ]+', string_1)\n",
    "print(matches)\n",
    "\n",
    "re.split(r'[`\\-=~!@#$%^&*()_+\\[\\]{};\\'\\\\:\"|<,./<>?]', a)\n",
    "\n",
    "posso criar um vetor de caracteres especiais\n",
    "o texto de entrada pode ser processado para facilitar a separação posterior (e.g. analisar caracteres e colocar espaço antes de caracteres especiais)\n",
    "para ordenar corretamente palavras com acento posso criar uma lista de tupla (palavras com acento, versao sem acento, ocorrencias)> substitui a (somente uma) ocorrencia com acento pela sem> ordena> substitui a ocorrencia sem acento pela com (garantindo que é somente a mais posterior em caso de empate de ocorrencias). e.g. nos e nós\n",
    "Além dos acentos, as letras em maiusculo são organizadas de maneira diferentes (maiusculas no inicio)"
   ]
  },
  {
   "cell_type": "code",
   "execution_count": 24,
   "id": "967bd24e",
   "metadata": {},
   "outputs": [],
   "source": [
    "p_unicas = []\n",
    "ocorrencias = []\n",
    "for palavra in palavras:\n",
    "    ja_existe = False\n",
    "    pos_encontrada = 0\n",
    "    pos_contador = 0\n",
    "    for p_u in p_unicas:\n",
    "        if p_u == palavra: \n",
    "            ja_existe=True\n",
    "            pos_encontrada = pos_contador\n",
    "        pos_contador += 1\n",
    "                \n",
    "    if ja_existe : \n",
    "        #incrementa um no contador de aparicoes\n",
    "        ocorrencias[pos_encontrada] += 1\n",
    "    else :\n",
    "        p_unicas.append(palavra)\n",
    "        #poe 1 no contador de aparicoes\n",
    "        ocorrencias.append(1)\n"
   ]
  },
  {
   "cell_type": "code",
   "execution_count": 25,
   "id": "e105c6c9",
   "metadata": {
    "scrolled": true
   },
   "outputs": [],
   "source": [
    "#print(p_unicas)\n",
    "#print(ocorrencias)\n",
    "#lista de tuplas\n",
    "output = list(zip(p_unicas, ocorrencias))\n",
    "#print(output)"
   ]
  },
  {
   "cell_type": "code",
   "execution_count": null,
   "id": "074ba250",
   "metadata": {},
   "outputs": [],
   "source": [
    "#print(output[0][0])\n",
    "#print(output[0][1])"
   ]
  },
  {
   "cell_type": "code",
   "execution_count": 26,
   "id": "6e5363e2",
   "metadata": {},
   "outputs": [],
   "source": [
    "output.sort()"
   ]
  },
  {
   "cell_type": "code",
   "execution_count": 1,
   "id": "fd57bc28",
   "metadata": {
    "scrolled": true
   },
   "outputs": [
    {
     "ename": "NameError",
     "evalue": "name 'output' is not defined",
     "output_type": "error",
     "traceback": [
      "\u001b[1;31m---------------------------------------------------------------------------\u001b[0m",
      "\u001b[1;31mNameError\u001b[0m                                 Traceback (most recent call last)",
      "\u001b[1;32m<ipython-input-1-a707e9187d7c>\u001b[0m in \u001b[0;36m<module>\u001b[1;34m\u001b[0m\n\u001b[1;32m----> 1\u001b[1;33m \u001b[0mprint\u001b[0m\u001b[1;33m(\u001b[0m\u001b[0moutput\u001b[0m\u001b[1;33m)\u001b[0m\u001b[1;33m\u001b[0m\u001b[1;33m\u001b[0m\u001b[0m\n\u001b[0m",
      "\u001b[1;31mNameError\u001b[0m: name 'output' is not defined"
     ]
    }
   ],
   "source": [
    "#print(output)"
   ]
  },
  {
   "cell_type": "code",
   "execution_count": 28,
   "id": "ad8a41b0",
   "metadata": {},
   "outputs": [],
   "source": [
    "with open('output.txt', 'w', encoding='utf8') as out:\n",
    "    out.write('\\n'.join('%s %s' % x for x in output))"
   ]
  },
  {
   "cell_type": "code",
   "execution_count": null,
   "id": "f8366e80",
   "metadata": {},
   "outputs": [],
   "source": []
  },
  {
   "cell_type": "code",
   "execution_count": null,
   "id": "954d076f",
   "metadata": {},
   "outputs": [],
   "source": []
  }
 ],
 "metadata": {
  "kernelspec": {
   "display_name": "Python 3",
   "language": "python",
   "name": "python3"
  },
  "language_info": {
   "codemirror_mode": {
    "name": "ipython",
    "version": 3
   },
   "file_extension": ".py",
   "mimetype": "text/x-python",
   "name": "python",
   "nbconvert_exporter": "python",
   "pygments_lexer": "ipython3",
   "version": "3.8.8"
  }
 },
 "nbformat": 4,
 "nbformat_minor": 5
}
